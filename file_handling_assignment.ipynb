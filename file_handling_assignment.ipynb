{
  "nbformat": 4,
  "nbformat_minor": 0,
  "metadata": {
    "colab": {
      "provenance": []
    },
    "kernelspec": {
      "name": "python3",
      "display_name": "Python 3"
    },
    "language_info": {
      "name": "python"
    }
  },
  "cells": [
    {
      "cell_type": "markdown",
      "source": [
        "# file handling assignment"
      ],
      "metadata": {
        "id": "BUPu5mdi-nXn"
      }
    },
    {
      "cell_type": "markdown",
      "source": [
        "**1\\. What is the difference between interpreted and compiled languages?**\n",
        "\n",
        ">Interpreted languages like Python run the code line by line. Errors are shown as soon as that line is reached. Compiled languages like C++ first convert the entire code into machine code using a compiler, and then run it. Compiled languages are usually faster, but interpreted ones are easier to test and debug.\n",
        "\n",
        "* * *\n",
        "\n",
        "**2\\. What is exception handling in Python?**  \n",
        ">Exception handling is a way to manage errors in a program without crashing it. It uses blocks like `try` and `except` to catch and handle errors such as dividing by zero or opening a missing file. This makes programs more reliable and user-friendly.\n",
        "\n",
        "* * *\n",
        "\n",
        "**3\\. What is the purpose of the `finally` block in exception handling?**  \n",
        ">The `finally` block always runs at the end, no matter if there was an error or not. It's useful for cleanup actions like closing files or releasing connections, to make sure the system stays safe and clean.\n",
        "\n",
        "* * *\n",
        "\n",
        "  \n",
        "\n",
        "**4\\. What is logging in Python?**  \n",
        ">Logging is a way to record information about what your program is doing. Instead of using print statements for debugging, you can use the `logging` module to track events like errors, warnings, or custom messages. These logs can be stored in files and help in finding issues later.\n",
        "\n",
        "* * *\n",
        "\n",
        "**5\\. What is the significance of the `__del__` method in Python?**  \n",
        ">The `__del__` method is called automatically when an object is about to be destroyed. It’s like a destructor. It is mainly used to release resources like files or network connections before the object is removed from memory. However, it’s not used often because Python already handles memory cleanup using garbage collection.\n",
        "\n",
        "* * *\n",
        "\n",
        "**6\\. What is the difference between `import` and `from ... import` in Python?**\n",
        "\n",
        "*   `import module` imports the whole module. You need to use the module name to access functions (`math.sqrt()`).\n",
        "    \n",
        "*   `from module import something` directly imports specific parts. So you can use the function directly (`sqrt()`).\n",
        "    \n",
        "\n",
        "* * *\n",
        "\n",
        "**7\\. How can you handle multiple exceptions in Python?**  \n",
        ">You can use multiple `except` blocks to handle different types of errors separately. You can also handle many exceptions in one line using a tuple like `except (ValueError, TypeError):`. This helps manage different error situations cleanly.\n",
        "\n",
        "* * *\n",
        "\n",
        "**8\\. What is the purpose of the `with` statement when handling files in Python?**  \n",
        ">The `with` statement is used to open files safely. It automatically closes the file after the block is done, even if an error happens. This avoids problems like memory leaks or files staying open too long.\n",
        "\n",
        "* * *\n",
        "\n",
        "**9\\. What is the difference between multithreading and multiprocessing?**\n",
        "\n",
        "*   **Multithreading** means running multiple threads in the same process. It is good for tasks like downloading or reading files.\n",
        "    \n",
        "*   **Multiprocessing** uses multiple processes that run independently. It is better for heavy CPU tasks because each process runs on a different core.\n",
        "    \n",
        "\n",
        "* * *\n",
        "\n",
        "**10\\. What are the advantages of using logging in a program?**  \n",
        ">Logging helps track what your program is doing, especially when something goes wrong. It’s better than print statements because it can record errors, warnings, or info in a log file, and you can control what gets logged.\n",
        "\n",
        "* * *\n",
        "\n",
        "**11\\. What is memory management in Python?**  \n",
        ">Memory management means how Python handles storing and cleaning up memory. Python uses automatic garbage collection to remove unused objects, and it manages memory efficiently so you don’t have to do it manually.\n",
        "\n",
        "* * *\n",
        "\n",
        "**12\\. What are the basic steps involved in exception handling in Python?**\n",
        "\n",
        "1.  Use `try` to write the risky code.\n",
        "    \n",
        "2.  Use `except` to catch and handle the error.\n",
        "    \n",
        "3.  Optionally use `else` to run code if no error happens.\n",
        "    \n",
        "4.  Use `finally` to clean up, whether there’s an error or not.\n",
        "    \n",
        "\n",
        "* * *\n",
        "\n",
        "**13\\. Why is memory management important in Python?**  \n",
        ">Good memory management ensures that the program doesn’t waste memory or slow down. If memory isn’t managed properly, it can lead to memory leaks and crash the program. Python’s automatic garbage collection helps avoid this.\n",
        "\n",
        "* * *\n",
        "\n",
        "**14\\. What is the role of `try` and `except` in exception handling?**  \n",
        ">The `try` block is used to write code that might cause an error. The `except` block catches the error and runs a safe response instead of crashing the program. Together, they allow the program to keep running smoothly even when something goes wrong.\n",
        "\n",
        "* * *\n",
        "\n",
        "**15\\. How does Python's garbage collection system work?**  \n",
        ">Python automatically deletes objects that are no longer used using a technique called **reference counting**. If no variable is using an object, it is deleted. Python also has a garbage collector to clean up circular references (where two objects refer to each other but nothing else refers to them).\n",
        "\n",
        "* * *\n",
        "\n",
        "**16\\. What is the purpose of the `else` block in exception handling?**  \n",
        ">The `else` block runs only if no exception occurs in the `try` block. It is used for code that should run when everything goes fine. It keeps your error-free code separate from the error-handling code.\n",
        "\n",
        "* * *\n",
        "\n",
        "**17\\. What are the common logging levels in Python?**  \n",
        ">Python logging has 5 main levels:\n",
        "\n",
        "*   **DEBUG**: Detailed information for debugging.\n",
        "    \n",
        "*   **INFO**: General messages about the program’s progress.\n",
        "    \n",
        "*   **WARNING**: Something unexpected happened, but the program continues.\n",
        "    \n",
        "*   **ERROR**: A serious issue that might affect part of the program.\n",
        "    \n",
        "*   **CRITICAL**: A very serious problem, like a crash.\n",
        "    \n",
        "\n",
        "* * *\n",
        "\n",
        "**18\\. What is the difference between `os.fork()` and `multiprocessing` in Python?**\n",
        "\n",
        "*   `os.fork()` is used on Unix/Linux to create a new child process directly from the current one.\n",
        "    \n",
        "*   `multiprocessing` is a cross-platform module in Python that creates processes in a simpler and safer way, even on Windows.\n",
        "    \n",
        "\n",
        "* * *\n",
        "\n",
        "**19\\. What is the importance of closing a file in Python?**  \n",
        ">Closing a file ensures that all data is written to disk properly and system resources are released. If you don’t close a file, it may stay open in memory, cause data loss, or even block access to that file.\n",
        "\n",
        "* * *\n",
        "\n",
        "**20\\. What is the difference between `file.read()` and `file.readline()` in Python?**\n",
        "\n",
        "*   `file.read()` reads the entire file content as a single string.\n",
        "    \n",
        "*   `file.readline()` reads just one line at a time. It’s useful when reading large files line by line.\n",
        "    \n",
        "\n",
        "* * *\n",
        "\n",
        "**21\\. What is the logging module in Python used for?**  \n",
        ">The `logging` module is used to write messages about a program’s operation to the console or a file. It helps in monitoring, debugging, and tracking errors or important actions in the program.\n",
        "\n",
        "* * *\n",
        "\n",
        "**22\\. What is the `os` module in Python used for in file handling?**  \n",
        ">The `os` module helps interact with the operating system. For file handling, it allows you to create, rename, delete files or folders, and get file paths or sizes.\n",
        "\n",
        "* * *\n",
        "\n",
        "**23\\. What are the challenges associated with memory management in Python?**  \n",
        ">Some challenges include managing circular references, ensuring memory is released in time, and handling large data in memory-heavy programs. Though Python helps with garbage collection, developers still need to be careful with memory usage in big projects.\n",
        "\n",
        "* * *\n",
        "\n",
        "**24\\. How do you raise an exception manually in Python?**  \n",
        ">You can use the `raise` keyword to throw an error when needed. For example, `raise ValueError(\"Invalid input\")`. This is helpful when you want to stop execution if something is wrong in your logic.\n",
        "\n",
        "* * *\n",
        "\n",
        "**25\\. Why is it important to use multithreading in certain applications?**  \n",
        ">Multithreading allows a program to do multiple tasks at the same time, like downloading files while updating the UI. It is helpful when tasks take time (like waiting for input or internet response), so the app stays responsive."
      ],
      "metadata": {
        "id": "SjS4A-Cx_QfP"
      }
    },
    {
      "cell_type": "code",
      "source": [
        "\n",
        "\n"
      ],
      "metadata": {
        "id": "uOmgF0Ds_Q8V"
      },
      "execution_count": null,
      "outputs": []
    },
    {
      "cell_type": "code",
      "source": [],
      "metadata": {
        "id": "KLY5JldtB4Aa"
      },
      "execution_count": null,
      "outputs": []
    },
    {
      "cell_type": "markdown",
      "source": [
        "### 1. How can you open a file for writing in Python and write a string to it?\n"
      ],
      "metadata": {
        "id": "4r6hCOvFCRZP"
      }
    },
    {
      "cell_type": "code",
      "source": [
        "with open(\"example.txt\", \"w\") as file:\n",
        "    file.write(\"This is a test string written to the file.\")"
      ],
      "metadata": {
        "id": "IO043pFRBt47"
      },
      "execution_count": null,
      "outputs": []
    },
    {
      "cell_type": "markdown",
      "source": [
        "### 2. Write a Python program to read the contents of a file and print each line.\n"
      ],
      "metadata": {
        "id": "hYOyOeaICU0I"
      }
    },
    {
      "cell_type": "code",
      "source": [
        "with open(\"example.txt\", \"r\") as file:\n",
        "    for line in file:\n",
        "        print(line.strip())\n"
      ],
      "metadata": {
        "colab": {
          "base_uri": "https://localhost:8080/"
        },
        "id": "qToaJF-nCjzo",
        "outputId": "383cd5d1-7300-4934-f8dd-340029786409"
      },
      "execution_count": 5,
      "outputs": [
        {
          "output_type": "stream",
          "name": "stdout",
          "text": [
            "This is a test string written to the file.\n"
          ]
        }
      ]
    },
    {
      "cell_type": "markdown",
      "source": [
        "### 3. How would you handle a case where the file doesn't exist while trying to open it for reading?\n"
      ],
      "metadata": {
        "id": "o4PlA5ZxClak"
      }
    },
    {
      "cell_type": "code",
      "source": [
        "try:\n",
        "    with open(\"file.txt\", \"r\") as file:\n",
        "        print(file.read())\n",
        "except FileNotFoundError:\n",
        "    print(\"The file does not exist.\")\n"
      ],
      "metadata": {
        "colab": {
          "base_uri": "https://localhost:8080/"
        },
        "id": "CmlSYD3pCoLr",
        "outputId": "ee8a087f-14c1-4db4-dd8d-a7b0af9ec8be"
      },
      "execution_count": 7,
      "outputs": [
        {
          "output_type": "stream",
          "name": "stdout",
          "text": [
            "The file does not exist.\n"
          ]
        }
      ]
    },
    {
      "cell_type": "markdown",
      "source": [
        "### 4. Write a Python script that reads from one file and writes its content to another file.\n"
      ],
      "metadata": {
        "id": "rpI1M82vCqBL"
      }
    },
    {
      "cell_type": "code",
      "source": [
        "with open(\"source.txt\", \"r\") as source, open(\"destination.txt\", \"w\") as dest:\n",
        "    dest.write(source.read())"
      ],
      "metadata": {
        "id": "6L7cktjaCukq"
      },
      "execution_count": null,
      "outputs": []
    },
    {
      "cell_type": "markdown",
      "source": [
        "### 5. How would you catch and handle division by zero error in Python?\n"
      ],
      "metadata": {
        "id": "CjfEE8ezCwk3"
      }
    },
    {
      "cell_type": "code",
      "source": [
        "try:\n",
        "    result = 10 / 0\n",
        "except ZeroDivisionError:\n",
        "    print(\"You can't divide by zero!\")\n"
      ],
      "metadata": {
        "colab": {
          "base_uri": "https://localhost:8080/"
        },
        "id": "dd5VefXlCxw1",
        "outputId": "5cd06f50-1f3d-44a5-807f-b2e738a92e0f"
      },
      "execution_count": 9,
      "outputs": [
        {
          "output_type": "stream",
          "name": "stdout",
          "text": [
            "You can't divide by zero!\n"
          ]
        }
      ]
    },
    {
      "cell_type": "markdown",
      "source": [
        "### 6. Write a Python program that logs an error message to a log file when a division by zero exception occurs.\n"
      ],
      "metadata": {
        "id": "fWOoQLdnC0GG"
      }
    },
    {
      "cell_type": "code",
      "source": [
        "import logging\n",
        "\n",
        "logging.basicConfig(filename='error.log', level=logging.ERROR)\n",
        "\n",
        "try:\n",
        "    result = 10 / 0\n",
        "except ZeroDivisionError as e:\n",
        "    logging.error(\"Division by zero error: %s\", e)\n"
      ],
      "metadata": {
        "colab": {
          "base_uri": "https://localhost:8080/"
        },
        "id": "HRAOh9MUC6BA",
        "outputId": "85b809ed-6b95-4f94-df18-cc43b281d3d8"
      },
      "execution_count": 10,
      "outputs": [
        {
          "output_type": "stream",
          "name": "stderr",
          "text": [
            "ERROR:root:Division by zero error: division by zero\n"
          ]
        }
      ]
    },
    {
      "cell_type": "markdown",
      "source": [
        "### 7. How do you log information at different levels (INFO, ERROR, WARNING) in Python using the logging module?\n"
      ],
      "metadata": {
        "id": "mLa8TyPKDS68"
      }
    },
    {
      "cell_type": "code",
      "source": [
        "import logging\n",
        "\n",
        "logging.basicConfig(level=logging.DEBUG)\n",
        "\n",
        "logging.info(\"This is an info message.\")\n",
        "logging.warning(\"This is a warning.\")\n",
        "logging.error(\"This is an error.\")\n"
      ],
      "metadata": {
        "colab": {
          "base_uri": "https://localhost:8080/"
        },
        "id": "94VOJnuBDVlY",
        "outputId": "50f4f371-cf86-4be2-95d1-6ffb3e904fed"
      },
      "execution_count": 11,
      "outputs": [
        {
          "output_type": "stream",
          "name": "stderr",
          "text": [
            "WARNING:root:This is a warning.\n",
            "ERROR:root:This is an error.\n"
          ]
        }
      ]
    },
    {
      "cell_type": "markdown",
      "source": [
        "### 8. Write a program to handle a file opening error using exception handling.\n"
      ],
      "metadata": {
        "id": "Pjg_0WtfDWu7"
      }
    },
    {
      "cell_type": "code",
      "source": [
        "try:\n",
        "    with open(\"missing.txt\", \"r\") as f:\n",
        "        print(f.read())\n",
        "except FileNotFoundError:\n",
        "    print(\"File could not be opened because it doesn't exist.\")\n"
      ],
      "metadata": {
        "colab": {
          "base_uri": "https://localhost:8080/"
        },
        "id": "Gop1ksCBDaBc",
        "outputId": "e7a7e44b-601c-4dbd-bd30-caa9e715acd9"
      },
      "execution_count": 12,
      "outputs": [
        {
          "output_type": "stream",
          "name": "stdout",
          "text": [
            "File could not be opened because it doesn't exist.\n"
          ]
        }
      ]
    },
    {
      "cell_type": "markdown",
      "source": [
        "### 9. How can you read a file line by line and store its content in a list in Python?\n"
      ],
      "metadata": {
        "id": "Qh2C2i9eDa9K"
      }
    },
    {
      "cell_type": "code",
      "source": [
        "with open(\"example.txt\", \"r\") as f:\n",
        "    lines = f.readlines()\n",
        "print(lines)\n"
      ],
      "metadata": {
        "colab": {
          "base_uri": "https://localhost:8080/"
        },
        "id": "PZtdwpMBDdz1",
        "outputId": "0b2f3bd3-9f6a-4a41-f6c3-f3f8292e55e2"
      },
      "execution_count": 13,
      "outputs": [
        {
          "output_type": "stream",
          "name": "stdout",
          "text": [
            "['This is a test string written to the file.']\n"
          ]
        }
      ]
    },
    {
      "cell_type": "markdown",
      "source": [
        "### 10. How can you append data to an existing file in Python?\n"
      ],
      "metadata": {
        "id": "KnCOYJg7DfPy"
      }
    },
    {
      "cell_type": "code",
      "source": [
        "with open(\"example.txt\", \"a\") as f:\n",
        "    f.write(\"\\nThis is appended text.\")\n"
      ],
      "metadata": {
        "id": "fFfqLo-GDhAu"
      },
      "execution_count": 14,
      "outputs": []
    },
    {
      "cell_type": "markdown",
      "source": [
        "### 11. Write a Python program that uses a try-except block to handle an error when attempting to access a dictionary key that doesn't exist.\n"
      ],
      "metadata": {
        "id": "BDKGPL5NDh9A"
      }
    },
    {
      "cell_type": "code",
      "source": [
        "data = {\"name\": \"Alice\"}\n",
        "\n",
        "try:\n",
        "    print(data[\"age\"])\n",
        "except KeyError:\n",
        "    print(\"Key not found in the dictionary.\")\n"
      ],
      "metadata": {
        "colab": {
          "base_uri": "https://localhost:8080/"
        },
        "id": "8sB2JkDQDjwY",
        "outputId": "68cefb7b-f9ea-440e-e4c4-340e97a90f39"
      },
      "execution_count": 15,
      "outputs": [
        {
          "output_type": "stream",
          "name": "stdout",
          "text": [
            "Key not found in the dictionary.\n"
          ]
        }
      ]
    },
    {
      "cell_type": "markdown",
      "source": [
        "### 12. Write a program that demonstrates using multiple except blocks to handle different types of exceptions.\n"
      ],
      "metadata": {
        "id": "Q5nFudb3DlGb"
      }
    },
    {
      "cell_type": "code",
      "source": [
        "try:\n",
        "    num = int(\"abc\")\n",
        "    result = 10 / 0\n",
        "except ValueError:\n",
        "    print(\"ValueError occurred.\")\n",
        "except ZeroDivisionError:\n",
        "    print(\"ZeroDivisionError occurred.\")\n"
      ],
      "metadata": {
        "colab": {
          "base_uri": "https://localhost:8080/"
        },
        "id": "bvaKmPRgDmXY",
        "outputId": "683a7c41-e849-4059-bda3-96cbd352d368"
      },
      "execution_count": 17,
      "outputs": [
        {
          "output_type": "stream",
          "name": "stdout",
          "text": [
            "ValueError occurred.\n"
          ]
        }
      ]
    },
    {
      "cell_type": "markdown",
      "source": [
        "### 13. How would you check if a file exists before attempting to read it in Python?\n",
        "\n"
      ],
      "metadata": {
        "id": "_9Yt1AkCDnod"
      }
    },
    {
      "cell_type": "code",
      "source": [
        "import os\n",
        "\n",
        "if os.path.exists(\"example.txt\"):\n",
        "    with open(\"example.txt\", \"r\") as f:\n",
        "        print(f.read())\n",
        "else:\n",
        "    print(\"File does not exist.\")\n"
      ],
      "metadata": {
        "colab": {
          "base_uri": "https://localhost:8080/"
        },
        "id": "uSjqxcaCEbUs",
        "outputId": "4f62924d-2641-47e9-dd6e-ff360c0e39b6"
      },
      "execution_count": 18,
      "outputs": [
        {
          "output_type": "stream",
          "name": "stdout",
          "text": [
            "This is a test string written to the file.\n",
            "This is appended text.\n"
          ]
        }
      ]
    },
    {
      "cell_type": "markdown",
      "source": [
        "### 14. Write a program that uses the logging module to log both informational and error messages.\n",
        "\n"
      ],
      "metadata": {
        "id": "9JByyDhoEcQ3"
      }
    },
    {
      "cell_type": "code",
      "source": [
        "import logging\n",
        "\n",
        "logging.basicConfig(filename='app.log', level=logging.INFO)\n",
        "\n",
        "logging.info(\"Program started\")\n",
        "try:\n",
        "    x = 1 / 0\n",
        "except ZeroDivisionError as e:\n",
        "    logging.error(\"An error occurred: %s\", e)\n"
      ],
      "metadata": {
        "colab": {
          "base_uri": "https://localhost:8080/"
        },
        "id": "5akpqIP2EeKi",
        "outputId": "166ebb97-57c3-4839-fbc5-ff22355a60ab"
      },
      "execution_count": 19,
      "outputs": [
        {
          "output_type": "stream",
          "name": "stderr",
          "text": [
            "ERROR:root:An error occurred: division by zero\n"
          ]
        }
      ]
    },
    {
      "cell_type": "markdown",
      "source": [
        "### 15. Write a Python program that prints the content of a file and handles the case when the file is empty.\n"
      ],
      "metadata": {
        "id": "Lo6tpBHiEfQ2"
      }
    },
    {
      "cell_type": "code",
      "source": [
        "with open(\"example.txt\", \"r\") as f:\n",
        "    content = f.read()\n",
        "    if not content:\n",
        "        print(\"The file is empty.\")\n",
        "    else:\n",
        "        print(content)\n"
      ],
      "metadata": {
        "colab": {
          "base_uri": "https://localhost:8080/"
        },
        "id": "VLOs_quZEgzp",
        "outputId": "c36d0740-deaa-494f-87a6-a999088f9911"
      },
      "execution_count": 22,
      "outputs": [
        {
          "output_type": "stream",
          "name": "stdout",
          "text": [
            "This is a test string written to the file.\n",
            "This is appended text.\n"
          ]
        }
      ]
    },
    {
      "cell_type": "markdown",
      "source": [
        "### 16. Demonstrate how to use memory profiling to check the memory usage of a small program.\n"
      ],
      "metadata": {
        "id": "eF6AIA1uEjPP"
      }
    },
    {
      "cell_type": "code",
      "source": [
        "# Make sure to install memory_profiler first using: pip install memory_profiler\n",
        "\n",
        "from memory_profiler import profile\n",
        "\n",
        "@profile\n",
        "def test():\n",
        "    a = [i for i in range(10000)]\n",
        "    return a\n",
        "\n",
        "test()\n"
      ],
      "metadata": {
        "id": "a-lMLkO8Elqu"
      },
      "execution_count": null,
      "outputs": []
    },
    {
      "cell_type": "markdown",
      "source": [
        "### 17. Write a Python program to create and write a list of numbers to a file, one number per line.\n"
      ],
      "metadata": {
        "id": "hLWN7iSAEnzI"
      }
    },
    {
      "cell_type": "code",
      "source": [
        "numbers = [1, 2, 3, 4, 5]\n",
        "\n",
        "with open(\"numbers.txt\", \"w\") as f:\n",
        "    for num in numbers:\n",
        "        f.write(f\"{num}\\n\")\n"
      ],
      "metadata": {
        "id": "lf-dy7SKEs9r"
      },
      "execution_count": 25,
      "outputs": []
    },
    {
      "cell_type": "markdown",
      "source": [
        "### 18. How would you implement a basic logging setup that logs to a file with rotation after 1MB?\n"
      ],
      "metadata": {
        "id": "d6SDfxosEuLv"
      }
    },
    {
      "cell_type": "code",
      "source": [
        "import logging\n",
        "from logging.handlers import RotatingFileHandler\n",
        "\n",
        "handler = RotatingFileHandler(\"rotating.log\", maxBytes=1024*1024, backupCount=3)\n",
        "logger = logging.getLogger()\n",
        "logger.setLevel(logging.INFO)\n",
        "logger.addHandler(handler)\n",
        "\n",
        "logger.info(\"This is a test log message.\")\n"
      ],
      "metadata": {
        "colab": {
          "base_uri": "https://localhost:8080/"
        },
        "id": "jP8ML7xpEwTq",
        "outputId": "7aebc519-8d46-4094-9c1a-6aa96701fcb7"
      },
      "execution_count": 26,
      "outputs": [
        {
          "output_type": "stream",
          "name": "stderr",
          "text": [
            "INFO:root:This is a test log message.\n"
          ]
        }
      ]
    },
    {
      "cell_type": "markdown",
      "source": [
        "### 19. Write a program that handles both IndexError and KeyError using a try-except block.\n"
      ],
      "metadata": {
        "id": "aOyKpTVnExTM"
      }
    },
    {
      "cell_type": "code",
      "source": [
        "data = {\"name\": \"Alice\"}\n",
        "lst = [1, 2, 3]\n",
        "\n",
        "try:\n",
        "    print(lst[5])\n",
        "    print(data[\"age\"])\n",
        "except IndexError:\n",
        "    print(\"Index out of range.\")\n",
        "except KeyError:\n",
        "    print(\"Key not found.\")\n"
      ],
      "metadata": {
        "colab": {
          "base_uri": "https://localhost:8080/"
        },
        "id": "9qKv06EaEy8U",
        "outputId": "06a283f4-d4dd-4c4c-8329-aac6b027c07d"
      },
      "execution_count": 28,
      "outputs": [
        {
          "output_type": "stream",
          "name": "stdout",
          "text": [
            "Index out of range.\n"
          ]
        }
      ]
    },
    {
      "cell_type": "markdown",
      "source": [
        "### 20. How would you open a file and read its contents using a context manager in Python?\n"
      ],
      "metadata": {
        "id": "XCwgu_7ZE1EP"
      }
    },
    {
      "cell_type": "code",
      "source": [
        "with open(\"example.txt\", \"r\") as file:\n",
        "    print(file.read())\n"
      ],
      "metadata": {
        "colab": {
          "base_uri": "https://localhost:8080/"
        },
        "id": "FtnfiSQ1E2Np",
        "outputId": "8876f102-903e-4378-8615-734e1f1a13ae"
      },
      "execution_count": 30,
      "outputs": [
        {
          "output_type": "stream",
          "name": "stdout",
          "text": [
            "This is a test string written to the file.\n",
            "This is appended text.\n"
          ]
        }
      ]
    },
    {
      "cell_type": "markdown",
      "source": [
        "### 21. Write a Python program that reads a file and prints the number of occurrences of a specific word.\n"
      ],
      "metadata": {
        "id": "rIMirdAsE4QI"
      }
    },
    {
      "cell_type": "code",
      "source": [
        "word_to_count = \"Python\"\n",
        "\n",
        "with open(\"example.txt\", \"r\") as f:\n",
        "    content = f.read()\n",
        "    count = content.count(word_to_count)\n",
        "    print(f\"The word '{word_to_count}' appears {count} times.\")\n"
      ],
      "metadata": {
        "colab": {
          "base_uri": "https://localhost:8080/"
        },
        "id": "U_8zWan1E6Dx",
        "outputId": "3f383bf4-7792-4449-b020-f8a44e07a453"
      },
      "execution_count": 31,
      "outputs": [
        {
          "output_type": "stream",
          "name": "stdout",
          "text": [
            "The word 'Python' appears 0 times.\n"
          ]
        }
      ]
    },
    {
      "cell_type": "markdown",
      "source": [
        "### 22. How can you check if a file is empty before attempting to read its contents?\n"
      ],
      "metadata": {
        "id": "Jrs2rYZFE7n3"
      }
    },
    {
      "cell_type": "code",
      "source": [
        "import os\n",
        "\n",
        "if os.path.exists(\"example.txt\") and os.path.getsize(\"example.txt\") > 0:\n",
        "    with open(\"example.txt\", \"r\") as f:\n",
        "        print(f.read())\n",
        "else:\n",
        "    print(\"The file is empty or does not exist.\")\n"
      ],
      "metadata": {
        "colab": {
          "base_uri": "https://localhost:8080/"
        },
        "id": "lawmGJU4E9Fq",
        "outputId": "d13c692f-0aec-410c-d27b-d5cae82f358f"
      },
      "execution_count": 32,
      "outputs": [
        {
          "output_type": "stream",
          "name": "stdout",
          "text": [
            "This is a test string written to the file.\n",
            "This is appended text.\n"
          ]
        }
      ]
    },
    {
      "cell_type": "markdown",
      "source": [
        "### 23. Write a Python program that writes to a log file when an error occurs during file handling.\n"
      ],
      "metadata": {
        "id": "jMs4AMG3E-LY"
      }
    },
    {
      "cell_type": "code",
      "source": [
        "### 23. Write a Python program that writes to a log file when an error occurs during file handling.\n"
      ],
      "metadata": {
        "id": "U8fxSHNYFBCy"
      },
      "execution_count": 33,
      "outputs": []
    },
    {
      "cell_type": "code",
      "source": [
        "import logging\n",
        "\n",
        "logging.basicConfig(filename='file_error.log', level=logging.ERROR)\n",
        "\n",
        "try:\n",
        "    with open(\"missing_file.txt\", \"r\") as f:\n",
        "        print(f.read())\n",
        "except FileNotFoundError as e:\n",
        "    logging.error(\"File error occurred: %s\", e)\n"
      ],
      "metadata": {
        "colab": {
          "base_uri": "https://localhost:8080/"
        },
        "id": "yNBThsKaFBYZ",
        "outputId": "0d94c926-eca7-48a5-fc3e-d7a777f22bb8"
      },
      "execution_count": 34,
      "outputs": [
        {
          "output_type": "stream",
          "name": "stderr",
          "text": [
            "ERROR:root:File error occurred: [Errno 2] No such file or directory: 'missing_file.txt'\n"
          ]
        }
      ]
    },
    {
      "cell_type": "code",
      "source": [],
      "metadata": {
        "id": "bs3LsApfFCy_"
      },
      "execution_count": null,
      "outputs": []
    }
  ]
}